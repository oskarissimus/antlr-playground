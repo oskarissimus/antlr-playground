{
 "cells": [
  {
   "cell_type": "code",
   "execution_count": 1,
   "metadata": {},
   "outputs": [
    {
     "name": "stdout",
     "output_type": "stream",
     "text": [
      "Entered rule: ProgramUnitContext\n",
      "Entered rule: StatementContext\n",
      "Entered rule: ClassDefContext\n",
      "Entered rule: EolContext\n",
      "Entered rule: FieldContext\n",
      "Entered rule: FunctionDeclarationContext\n",
      "Entered rule: TypeContext\n",
      "Entered rule: VarDeclarationContext\n",
      "Entered rule: TypeContext\n",
      "Entered rule: VariableInitContext\n",
      "Entered rule: StatementContext\n",
      "Entered rule: StatementContext\n",
      "Entered rule: EolContext\n",
      "Entered rule: StatementContext\n",
      "Entered rule: ExpressionContext\n",
      "Entered rule: EolContext\n",
      "Entered rule: EolContext\n",
      "Entered rule: EolContext\n",
      "Entered rule: StatementContext\n",
      "Entered rule: VarDeclarationContext\n",
      "Entered rule: VariableInitImplicitContext\n",
      "Entered rule: ExpressionContext\n"
     ]
    }
   ],
   "source": [
    "from antlr4 import FileStream, CommonTokenStream\n",
    "from antlr_playground.grammar.bdsLexer import bdsLexer\n",
    "from antlr_playground.grammar.bdsParser import bdsParser\n",
    "from antlr_playground.grammar.bdsListener import bdsListener\n",
    "from antlr4 import ParseTreeWalker\n",
    "\n",
    "\n",
    "input_stream = FileStream(\"examples/TheQuickBrownFox.bds\")\n",
    "lexer = bdsLexer(input_stream)\n",
    "token_stream = CommonTokenStream(lexer)\n",
    "parser = bdsParser(token_stream)\n",
    "\n",
    "tree = parser.programUnit()\n",
    "\n",
    "class MybdsListener(bdsListener):\n",
    "    def enterEveryRule(self, ctx):\n",
    "        print(f\"Entered rule: {ctx.__class__.__name__}\")\n",
    "\n",
    "# Create the listener\n",
    "listener = MybdsListener()\n",
    "\n",
    "# Walk the tree with the listener\n",
    "walker = ParseTreeWalker()\n",
    "walker.walk(listener, tree)\n"
   ]
  },
  {
   "cell_type": "code",
   "execution_count": 2,
   "metadata": {},
   "outputs": [
    {
     "data": {
      "text/plain": [
       "<antlr_playground.grammar.bdsParser.bdsParser.ProgramUnitContext at 0x7f43f372f0d0>"
      ]
     },
     "execution_count": 2,
     "metadata": {},
     "output_type": "execute_result"
    }
   ],
   "source": [
    "tree"
   ]
  },
  {
   "cell_type": "code",
   "execution_count": null,
   "metadata": {},
   "outputs": [],
   "source": []
  }
 ],
 "metadata": {
  "kernelspec": {
   "display_name": "antlr-playground-FoZOWwHh-py3.10",
   "language": "python",
   "name": "python3"
  },
  "language_info": {
   "codemirror_mode": {
    "name": "ipython",
    "version": 3
   },
   "file_extension": ".py",
   "mimetype": "text/x-python",
   "name": "python",
   "nbconvert_exporter": "python",
   "pygments_lexer": "ipython3",
   "version": "3.10.12"
  },
  "orig_nbformat": 4
 },
 "nbformat": 4,
 "nbformat_minor": 2
}
